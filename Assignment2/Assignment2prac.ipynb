{
 "cells": [
  {
   "cell_type": "code",
   "execution_count": 1,
   "id": "338f40fe",
   "metadata": {},
   "outputs": [],
   "source": [
    "%matplotlib inline\n",
    "%load_ext autoreload\n",
    "%autoreload 2"
   ]
  },
  {
   "cell_type": "code",
   "execution_count": 2,
   "id": "2225c7e2",
   "metadata": {},
   "outputs": [],
   "source": [
    "from MyClassifiers import NBClassifier, LRClassifier"
   ]
  },
  {
   "cell_type": "code",
   "execution_count": 3,
   "id": "1f1313b0",
   "metadata": {},
   "outputs": [],
   "source": [
    "import numpy as np"
   ]
  },
  {
   "cell_type": "code",
   "execution_count": 10,
   "id": "ad7b70ce",
   "metadata": {},
   "outputs": [],
   "source": [
    "X = np.array([[5, 6], [0.4, 1.2]])\n",
    "w = np.array([0.4, 0.1])\n",
    "y = np.array([0,1])"
   ]
  },
  {
   "cell_type": "code",
   "execution_count": 12,
   "id": "d2679a44",
   "metadata": {},
   "outputs": [
    {
     "data": {
      "text/plain": [
       "2.3246295526739966"
      ]
     },
     "execution_count": 12,
     "metadata": {},
     "output_type": "execute_result"
    }
   ],
   "source": [
    "LRC = LRClassifier(lamda_value=1, Bias=False)\n",
    "LRC.fit(X.T, y)\n",
    "LRC.negative_log_likelihood(X.T, w, y)"
   ]
  },
  {
   "cell_type": "code",
   "execution_count": 16,
   "id": "40ca0dc6",
   "metadata": {},
   "outputs": [
    {
     "name": "stdout",
     "output_type": "stream",
     "text": [
      "[[2.  6. ]\n",
      " [3.5 7. ]]\n",
      "[[1.   1.  ]\n",
      " [2.25 1.  ]]\n"
     ]
    }
   ],
   "source": [
    "X = np.array([[1,2,3,5], [5,6,7,8]])\n",
    "y = np.array([1,2,1,2])\n",
    "\n",
    "NBC = NBClassifier()\n",
    "NBC.fit(X.T, y)\n",
    "print(NBC.means_)\n",
    "print(NBC.var_)"
   ]
  },
  {
   "cell_type": "markdown",
   "id": "4c60630c",
   "metadata": {},
   "source": [
    "$$ \\sigma_{22} = 1 \\\\\n",
    "    \\mu_{22} = 7 \\\\\n",
    "    \\mu_{12} = 3.5  \\\\\n",
    "    \\mu_{11} = 2 \\\\\n",
    "    \\mu_{21} = 6 \\\\\n",
    "    \\sigma_{11} = 1 \\\\\n",
    "    \\sigma_{12} = 2.25 \\\\\n",
    "    \\sigma_{21} = 1 $$"
   ]
  },
  {
   "cell_type": "code",
   "execution_count": 33,
   "id": "6b4334be",
   "metadata": {},
   "outputs": [],
   "source": [
    "x = np.array([1,1])\n",
    "x = x[:,np.newaxis]\n",
    "A = np.array([[1,3], [2,1]])"
   ]
  },
  {
   "cell_type": "code",
   "execution_count": 35,
   "id": "50673aea",
   "metadata": {},
   "outputs": [
    {
     "name": "stdout",
     "output_type": "stream",
     "text": [
      "(2, 2)\n",
      "[[7]]\n"
     ]
    },
    {
     "ename": "ValueError",
     "evalue": "matmul: Input operand 1 has a mismatch in its core dimension 0, with gufunc signature (n?,k),(k,m?)->(n?,m?) (size 2 is different from 1)",
     "output_type": "error",
     "traceback": [
      "\u001b[0;31m---------------------------------------------------------------------------\u001b[0m",
      "\u001b[0;31mValueError\u001b[0m                                Traceback (most recent call last)",
      "Cell \u001b[0;32mIn[35], line 3\u001b[0m\n\u001b[1;32m      1\u001b[0m \u001b[38;5;28mprint\u001b[39m((x\u001b[38;5;129m@x\u001b[39m\u001b[38;5;241m.\u001b[39mT)\u001b[38;5;241m.\u001b[39mshape)\n\u001b[1;32m      2\u001b[0m \u001b[38;5;28mprint\u001b[39m(x\u001b[38;5;241m.\u001b[39mT \u001b[38;5;241m@\u001b[39m A \u001b[38;5;241m@\u001b[39m x)\n\u001b[0;32m----> 3\u001b[0m \u001b[38;5;28mprint\u001b[39m(\u001b[43mx\u001b[49m\u001b[43m \u001b[49m\u001b[38;5;241;43m@\u001b[39;49m\u001b[43m \u001b[49m\u001b[43mx\u001b[49m)\n",
      "\u001b[0;31mValueError\u001b[0m: matmul: Input operand 1 has a mismatch in its core dimension 0, with gufunc signature (n?,k),(k,m?)->(n?,m?) (size 2 is different from 1)"
     ]
    }
   ],
   "source": [
    "print((x@x.T).shape)\n",
    "print(x.T @ A @ x)\n",
    "print(x @ x)"
   ]
  },
  {
   "cell_type": "code",
   "execution_count": 38,
   "id": "0e413d56",
   "metadata": {},
   "outputs": [
    {
     "name": "stdout",
     "output_type": "stream",
     "text": [
      "[[2]]\n",
      "[[0.6]]\n"
     ]
    }
   ],
   "source": [
    "print(x.T @ x)\n",
    "print(x.T @ np.linalg.inv(A) @ x)"
   ]
  },
  {
   "cell_type": "code",
   "execution_count": 39,
   "id": "421c37c6",
   "metadata": {},
   "outputs": [],
   "source": [
    "X = np.array([[5, 6], [0.4, 1.2]])\n",
    "w = np.array([0.4, 0.1])\n",
    "y = np.array([0,1])"
   ]
  },
  {
   "cell_type": "code",
   "execution_count": 53,
   "id": "b9c06bef",
   "metadata": {},
   "outputs": [
    {
     "data": {
      "text/plain": [
       "array([4.37785867, 0.36461177])"
      ]
     },
     "execution_count": 53,
     "metadata": {},
     "output_type": "execute_result"
    }
   ],
   "source": [
    "LCR = LRClassifier(lamda_value=1, Bias=False)\n",
    "# LCR.fit(X.T, y)\n",
    "LCR.gradient(X.T, w, y)"
   ]
  },
  {
   "cell_type": "markdown",
   "id": "822a0913",
   "metadata": {},
   "source": [
    "$$ m_1 = 4.37785867 \\\\\n",
    "   m_2 = 0.36461177$$"
   ]
  },
  {
   "cell_type": "code",
   "execution_count": 49,
   "id": "2eee7f9e",
   "metadata": {},
   "outputs": [],
   "source": [
    "X = np.array([[5, 6], [0.4, 1.2]])\n",
    "w = np.array([0.4, 0.1])"
   ]
  },
  {
   "cell_type": "code",
   "execution_count": 56,
   "id": "5b681201",
   "metadata": {},
   "outputs": [
    {
     "data": {
      "text/plain": [
       "array([[6.02686841, 0.69989454],\n",
       "       [0.69989454, 1.11554058]])"
      ]
     },
     "execution_count": 56,
     "metadata": {},
     "output_type": "execute_result"
    }
   ],
   "source": [
    "LCR = LRClassifier(lamda_value=1, Bias=False)\n",
    "LCR.hessian(X.T, w)"
   ]
  },
  {
   "cell_type": "markdown",
   "id": "40b6bf40",
   "metadata": {},
   "source": [
    "$$ H_{11} = 6.02686841 \\\\\n",
    "   H_{12} = 0.69989454 \\\\\n",
    "   H_{22} = 1.11554058 \\\\\n",
    "   H_{21} = 0.69989454 $$"
   ]
  },
  {
   "cell_type": "code",
   "execution_count": 80,
   "id": "317994fb",
   "metadata": {},
   "outputs": [],
   "source": [
    "def estimate_u(x,c):\n",
    "    mean_0 = 0\n",
    "    n_0 = 0\n",
    "    mean_1 = 0\n",
    "    n_1 = 0\n",
    "    for i in range(0, len(c)):\n",
    "        if c[i] == 0:\n",
    "            mean_0 += x[i]\n",
    "            n_0 += 1\n",
    "        if c[i] == 1:\n",
    "            mean_1 += x[i]\n",
    "            n_1 += 1\n",
    "    mean_0 = mean_0 / n_0\n",
    "    mean_1 = mean_1 / n_1\n",
    "    \n",
    "    return [mean_0, mean_1]        "
   ]
  },
  {
   "cell_type": "code",
   "execution_count": 82,
   "id": "ffcec641",
   "metadata": {},
   "outputs": [
    {
     "name": "stdout",
     "output_type": "stream",
     "text": [
      "['2.0000', '3.0000']\n"
     ]
    }
   ],
   "source": [
    "print([\"%.4f\"%item for item in estimate_u([1,3,3],[0,1,0])])"
   ]
  },
  {
   "cell_type": "code",
   "execution_count": null,
   "id": "93978043",
   "metadata": {},
   "outputs": [],
   "source": []
  }
 ],
 "metadata": {
  "kernelspec": {
   "display_name": "Python 3 (ipykernel)",
   "language": "python",
   "name": "python3"
  },
  "language_info": {
   "codemirror_mode": {
    "name": "ipython",
    "version": 3
   },
   "file_extension": ".py",
   "mimetype": "text/x-python",
   "name": "python",
   "nbconvert_exporter": "python",
   "pygments_lexer": "ipython3",
   "version": "3.8.10"
  }
 },
 "nbformat": 4,
 "nbformat_minor": 5
}
